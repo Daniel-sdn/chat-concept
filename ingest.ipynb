{
 "cells": [
  {
   "cell_type": "markdown",
   "metadata": {},
   "source": [
    "## Programa para ingest de conteudo Langchain para o banco de dados Weaviate"
   ]
  },
  {
   "cell_type": "code",
   "execution_count": 5,
   "metadata": {},
   "outputs": [],
   "source": [
    "\"\"\"Load html from files, clean up, split, ingest into Weaviate.\"\"\"\n",
    "import logging\n",
    "import os\n",
    "import re\n",
    "from parser import langchain_docs_extractor\n",
    "\n",
    "import weaviate\n",
    "from bs4 import BeautifulSoup, SoupStrainer\n",
    "from langchain.document_loaders import RecursiveUrlLoader, SitemapLoader\n",
    "from langchain.embeddings import OpenAIEmbeddings\n",
    "from langchain.indexes import SQLRecordManager, index\n",
    "from langchain.text_splitter import RecursiveCharacterTextSplitter\n",
    "from langchain.utils.html import PREFIXES_TO_IGNORE_REGEX, SUFFIXES_TO_IGNORE_REGEX\n",
    "from langchain.vectorstores import Weaviate\n",
    "\n",
    "from constants import WEAVIATE_DOCS_INDEX_NAME"
   ]
  },
  {
   "cell_type": "code",
   "execution_count": 7,
   "metadata": {},
   "outputs": [],
   "source": [
    "logger = logging.getLogger(__name__)\n",
    "\n",
    "WEAVIATE_URL = os.environ[\"WEAVIATE_URL\"]\n",
    "WEAVIATE_API_KEY = os.environ[\"WEAVIATE_API_KEY\"]\n",
    "RECORD_MANAGER_DB_URL = os.environ[\"RECORD_MANAGER_DB_URL\"]"
   ]
  },
  {
   "cell_type": "code",
   "execution_count": 8,
   "metadata": {},
   "outputs": [],
   "source": [
    "def metadata_extractor(meta: dict, soup: BeautifulSoup) -> dict:\n",
    "    title = soup.find(\"title\")\n",
    "    description = soup.find(\"meta\", attrs={\"name\": \"description\"})\n",
    "    html = soup.find(\"html\")\n",
    "    return {\n",
    "        \"source\": meta[\"loc\"],\n",
    "        \"title\": title.get_text() if title else \"\",\n",
    "        \"description\": description.get(\"content\", \"\") if description else \"\",\n",
    "        \"language\": html.get(\"lang\", \"\") if html else \"\",\n",
    "        **meta,\n",
    "    }\n",
    "\n",
    "\n",
    "def load_langchain_docs():\n",
    "    return SitemapLoader(\n",
    "        \"https://python.langchain.com/sitemap.xml\",\n",
    "        filter_urls=[\"https://python.langchain.com/\"],\n",
    "        parsing_function=langchain_docs_extractor,\n",
    "        default_parser=\"lxml\",\n",
    "        bs_kwargs={\n",
    "            \"parse_only\": SoupStrainer(\n",
    "                name=(\"article\", \"title\", \"html\", \"lang\", \"content\")\n",
    "            ),\n",
    "        },\n",
    "        meta_function=metadata_extractor,\n",
    "    ).load()\n",
    "\n",
    "\n",
    "def simple_extractor(html: str) -> str:\n",
    "    soup = BeautifulSoup(html, \"lxml\")\n",
    "    return re.sub(r\"\\n\\n+\", \"\\n\\n\", soup.text).strip()\n",
    "\n",
    "\n",
    "def load_api_docs():\n",
    "    return RecursiveUrlLoader(\n",
    "        url=\"https://api.python.langchain.com/en/latest/\",\n",
    "        max_depth=8,\n",
    "        extractor=simple_extractor,\n",
    "        prevent_outside=True,\n",
    "        use_async=True,\n",
    "        timeout=600,\n",
    "        # Drop trailing / to avoid duplicate pages.\n",
    "        link_regex=(\n",
    "            f\"href=[\\\"']{PREFIXES_TO_IGNORE_REGEX}((?:{SUFFIXES_TO_IGNORE_REGEX}.)*?)\"\n",
    "            r\"(?:[\\#'\\\"]|\\/[\\#'\\\"])\"\n",
    "        ),\n",
    "        check_response_status=True,\n",
    "        exclude_dirs=(\n",
    "            \"https://api.python.langchain.com/en/latest/_sources\",\n",
    "            \"https://api.python.langchain.com/en/latest/_modules\",\n",
    "        ),\n",
    "    ).load()"
   ]
  },
  {
   "cell_type": "code",
   "execution_count": 9,
   "metadata": {},
   "outputs": [],
   "source": [
    "def ingest_docs():\n",
    "    docs_from_documentation = load_langchain_docs()\n",
    "    logger.info(f\"Loaded {len(docs_from_documentation)} docs from documentation\")\n",
    "    docs_from_api = load_api_docs()\n",
    "    logger.info(f\"Loaded {len(docs_from_api)} docs from API\")\n",
    "\n",
    "    text_splitter = RecursiveCharacterTextSplitter(chunk_size=4000, chunk_overlap=200)\n",
    "    docs_transformed = text_splitter.split_documents(\n",
    "        docs_from_documentation + docs_from_api\n",
    "    )\n",
    "\n",
    "    # We try to return 'source' and 'title' metadata when querying vector store and\n",
    "    # Weaviate will error at query time if one of the attributes is missing from a\n",
    "    # retrieved document.\n",
    "    for doc in docs_transformed:\n",
    "        if \"source\" not in doc.metadata:\n",
    "            doc.metadata[\"source\"] = \"\"\n",
    "        if \"title\" not in doc.metadata:\n",
    "            doc.metadata[\"title\"] = \"\"\n",
    "\n",
    "    client = weaviate.Client(\n",
    "        url=WEAVIATE_URL,\n",
    "        auth_client_secret=weaviate.AuthApiKey(api_key=WEAVIATE_API_KEY),\n",
    "    )\n",
    "    embedding = OpenAIEmbeddings(\n",
    "        chunk_size=200,\n",
    "    )  # rate limit\n",
    "    vectorstore = Weaviate(\n",
    "        client=client,\n",
    "        index_name=WEAVIATE_DOCS_INDEX_NAME,\n",
    "        text_key=\"text\",\n",
    "        embedding=embedding,\n",
    "        by_text=False,\n",
    "        attributes=[\"source\", \"title\"],\n",
    "    )\n",
    "\n",
    "    record_manager = SQLRecordManager(\n",
    "        f\"weaviate/{WEAVIATE_DOCS_INDEX_NAME}\", db_url=RECORD_MANAGER_DB_URL\n",
    "    )\n",
    "    record_manager.create_schema()\n",
    "\n",
    "    indexing_stats = index(\n",
    "        docs_transformed,\n",
    "        record_manager,\n",
    "        vectorstore,\n",
    "        cleanup=\"full\",\n",
    "        source_id_key=\"source\",\n",
    "    )\n",
    "\n",
    "    logger.info(\"Indexing stats: \", indexing_stats)\n",
    "    logger.info(\n",
    "        \"LangChain now has this many vectors: \",\n",
    "        client.query.aggregate(WEAVIATE_DOCS_INDEX_NAME).with_meta_count().do(),\n",
    "    )\n"
   ]
  },
  {
   "cell_type": "code",
   "execution_count": 10,
   "metadata": {},
   "outputs": [],
   "source": [
    "record_manager = SQLRecordManager(\n",
    "    f\"weaviate/{WEAVIATE_DOCS_INDEX_NAME}\", db_url=RECORD_MANAGER_DB_URL)"
   ]
  },
  {
   "cell_type": "code",
   "execution_count": 12,
   "metadata": {},
   "outputs": [],
   "source": [
    "record_manager.create_schema()"
   ]
  },
  {
   "cell_type": "code",
   "execution_count": 13,
   "metadata": {},
   "outputs": [
    {
     "ename": "RuntimeError",
     "evalue": "asyncio.run() cannot be called from a running event loop",
     "output_type": "error",
     "traceback": [
      "\u001b[0;31m---------------------------------------------------------------------------\u001b[0m",
      "\u001b[0;31mRuntimeError\u001b[0m                              Traceback (most recent call last)",
      "\u001b[1;32m/home/dani-boy/LangChain/chat-concept/ingest.ipynb Cell 8\u001b[0m line \u001b[0;36m1\n\u001b[0;32m----> <a href='vscode-notebook-cell://wsl%2Bubuntu-22.04/home/dani-boy/LangChain/chat-concept/ingest.ipynb#X10sdnNjb2RlLXJlbW90ZQ%3D%3D?line=0'>1</a>\u001b[0m ingest_docs()\n",
      "\u001b[1;32m/home/dani-boy/LangChain/chat-concept/ingest.ipynb Cell 8\u001b[0m line \u001b[0;36m2\n\u001b[1;32m      <a href='vscode-notebook-cell://wsl%2Bubuntu-22.04/home/dani-boy/LangChain/chat-concept/ingest.ipynb#X10sdnNjb2RlLXJlbW90ZQ%3D%3D?line=0'>1</a>\u001b[0m \u001b[39mdef\u001b[39;00m \u001b[39mingest_docs\u001b[39m():\n\u001b[0;32m----> <a href='vscode-notebook-cell://wsl%2Bubuntu-22.04/home/dani-boy/LangChain/chat-concept/ingest.ipynb#X10sdnNjb2RlLXJlbW90ZQ%3D%3D?line=1'>2</a>\u001b[0m     docs_from_documentation \u001b[39m=\u001b[39m load_langchain_docs()\n\u001b[1;32m      <a href='vscode-notebook-cell://wsl%2Bubuntu-22.04/home/dani-boy/LangChain/chat-concept/ingest.ipynb#X10sdnNjb2RlLXJlbW90ZQ%3D%3D?line=2'>3</a>\u001b[0m     logger\u001b[39m.\u001b[39minfo(\u001b[39mf\u001b[39m\u001b[39m\"\u001b[39m\u001b[39mLoaded \u001b[39m\u001b[39m{\u001b[39;00m\u001b[39mlen\u001b[39m(docs_from_documentation)\u001b[39m}\u001b[39;00m\u001b[39m docs from documentation\u001b[39m\u001b[39m\"\u001b[39m)\n\u001b[1;32m      <a href='vscode-notebook-cell://wsl%2Bubuntu-22.04/home/dani-boy/LangChain/chat-concept/ingest.ipynb#X10sdnNjb2RlLXJlbW90ZQ%3D%3D?line=3'>4</a>\u001b[0m     docs_from_api \u001b[39m=\u001b[39m load_api_docs()\n",
      "\u001b[1;32m/home/dani-boy/LangChain/chat-concept/ingest.ipynb Cell 8\u001b[0m line \u001b[0;36m2\n\u001b[1;32m     <a href='vscode-notebook-cell://wsl%2Bubuntu-22.04/home/dani-boy/LangChain/chat-concept/ingest.ipynb#X10sdnNjb2RlLXJlbW90ZQ%3D%3D?line=13'>14</a>\u001b[0m \u001b[39mdef\u001b[39;00m \u001b[39mload_langchain_docs\u001b[39m():\n\u001b[1;32m     <a href='vscode-notebook-cell://wsl%2Bubuntu-22.04/home/dani-boy/LangChain/chat-concept/ingest.ipynb#X10sdnNjb2RlLXJlbW90ZQ%3D%3D?line=14'>15</a>\u001b[0m     \u001b[39mreturn\u001b[39;00m SitemapLoader(\n\u001b[1;32m     <a href='vscode-notebook-cell://wsl%2Bubuntu-22.04/home/dani-boy/LangChain/chat-concept/ingest.ipynb#X10sdnNjb2RlLXJlbW90ZQ%3D%3D?line=15'>16</a>\u001b[0m         \u001b[39m\"\u001b[39;49m\u001b[39mhttps://python.langchain.com/sitemap.xml\u001b[39;49m\u001b[39m\"\u001b[39;49m,\n\u001b[1;32m     <a href='vscode-notebook-cell://wsl%2Bubuntu-22.04/home/dani-boy/LangChain/chat-concept/ingest.ipynb#X10sdnNjb2RlLXJlbW90ZQ%3D%3D?line=16'>17</a>\u001b[0m         filter_urls\u001b[39m=\u001b[39;49m[\u001b[39m\"\u001b[39;49m\u001b[39mhttps://python.langchain.com/\u001b[39;49m\u001b[39m\"\u001b[39;49m],\n\u001b[1;32m     <a href='vscode-notebook-cell://wsl%2Bubuntu-22.04/home/dani-boy/LangChain/chat-concept/ingest.ipynb#X10sdnNjb2RlLXJlbW90ZQ%3D%3D?line=17'>18</a>\u001b[0m         parsing_function\u001b[39m=\u001b[39;49mlangchain_docs_extractor,\n\u001b[1;32m     <a href='vscode-notebook-cell://wsl%2Bubuntu-22.04/home/dani-boy/LangChain/chat-concept/ingest.ipynb#X10sdnNjb2RlLXJlbW90ZQ%3D%3D?line=18'>19</a>\u001b[0m         default_parser\u001b[39m=\u001b[39;49m\u001b[39m\"\u001b[39;49m\u001b[39mlxml\u001b[39;49m\u001b[39m\"\u001b[39;49m,\n\u001b[1;32m     <a href='vscode-notebook-cell://wsl%2Bubuntu-22.04/home/dani-boy/LangChain/chat-concept/ingest.ipynb#X10sdnNjb2RlLXJlbW90ZQ%3D%3D?line=19'>20</a>\u001b[0m         bs_kwargs\u001b[39m=\u001b[39;49m{\n\u001b[1;32m     <a href='vscode-notebook-cell://wsl%2Bubuntu-22.04/home/dani-boy/LangChain/chat-concept/ingest.ipynb#X10sdnNjb2RlLXJlbW90ZQ%3D%3D?line=20'>21</a>\u001b[0m             \u001b[39m\"\u001b[39;49m\u001b[39mparse_only\u001b[39;49m\u001b[39m\"\u001b[39;49m: SoupStrainer(\n\u001b[1;32m     <a href='vscode-notebook-cell://wsl%2Bubuntu-22.04/home/dani-boy/LangChain/chat-concept/ingest.ipynb#X10sdnNjb2RlLXJlbW90ZQ%3D%3D?line=21'>22</a>\u001b[0m                 name\u001b[39m=\u001b[39;49m(\u001b[39m\"\u001b[39;49m\u001b[39marticle\u001b[39;49m\u001b[39m\"\u001b[39;49m, \u001b[39m\"\u001b[39;49m\u001b[39mtitle\u001b[39;49m\u001b[39m\"\u001b[39;49m, \u001b[39m\"\u001b[39;49m\u001b[39mhtml\u001b[39;49m\u001b[39m\"\u001b[39;49m, \u001b[39m\"\u001b[39;49m\u001b[39mlang\u001b[39;49m\u001b[39m\"\u001b[39;49m, \u001b[39m\"\u001b[39;49m\u001b[39mcontent\u001b[39;49m\u001b[39m\"\u001b[39;49m)\n\u001b[1;32m     <a href='vscode-notebook-cell://wsl%2Bubuntu-22.04/home/dani-boy/LangChain/chat-concept/ingest.ipynb#X10sdnNjb2RlLXJlbW90ZQ%3D%3D?line=22'>23</a>\u001b[0m             ),\n\u001b[1;32m     <a href='vscode-notebook-cell://wsl%2Bubuntu-22.04/home/dani-boy/LangChain/chat-concept/ingest.ipynb#X10sdnNjb2RlLXJlbW90ZQ%3D%3D?line=23'>24</a>\u001b[0m         },\n\u001b[1;32m     <a href='vscode-notebook-cell://wsl%2Bubuntu-22.04/home/dani-boy/LangChain/chat-concept/ingest.ipynb#X10sdnNjb2RlLXJlbW90ZQ%3D%3D?line=24'>25</a>\u001b[0m         meta_function\u001b[39m=\u001b[39;49mmetadata_extractor,\n\u001b[0;32m---> <a href='vscode-notebook-cell://wsl%2Bubuntu-22.04/home/dani-boy/LangChain/chat-concept/ingest.ipynb#X10sdnNjb2RlLXJlbW90ZQ%3D%3D?line=25'>26</a>\u001b[0m     )\u001b[39m.\u001b[39;49mload()\n",
      "File \u001b[0;32m~/.cache/pypoetry/virtualenvs/chat-langchain-zY7rdqCf-py3.10/lib/python3.10/site-packages/langchain/document_loaders/sitemap.py:148\u001b[0m, in \u001b[0;36mSitemapLoader.load\u001b[0;34m(self)\u001b[0m\n\u001b[1;32m    145\u001b[0m     \u001b[39melse\u001b[39;00m:\n\u001b[1;32m    146\u001b[0m         els \u001b[39m=\u001b[39m elblocks[\u001b[39mself\u001b[39m\u001b[39m.\u001b[39mblocknum]\n\u001b[0;32m--> 148\u001b[0m results \u001b[39m=\u001b[39m \u001b[39mself\u001b[39;49m\u001b[39m.\u001b[39;49mscrape_all([el[\u001b[39m\"\u001b[39;49m\u001b[39mloc\u001b[39;49m\u001b[39m\"\u001b[39;49m]\u001b[39m.\u001b[39;49mstrip() \u001b[39mfor\u001b[39;49;00m el \u001b[39min\u001b[39;49;00m els \u001b[39mif\u001b[39;49;00m \u001b[39m\"\u001b[39;49m\u001b[39mloc\u001b[39;49m\u001b[39m\"\u001b[39;49m \u001b[39min\u001b[39;49;00m el])\n\u001b[1;32m    150\u001b[0m \u001b[39mreturn\u001b[39;00m [\n\u001b[1;32m    151\u001b[0m     Document(\n\u001b[1;32m    152\u001b[0m         page_content\u001b[39m=\u001b[39m\u001b[39mself\u001b[39m\u001b[39m.\u001b[39mparsing_function(results[i]),\n\u001b[0;32m   (...)\u001b[0m\n\u001b[1;32m    155\u001b[0m     \u001b[39mfor\u001b[39;00m i \u001b[39min\u001b[39;00m \u001b[39mrange\u001b[39m(\u001b[39mlen\u001b[39m(results))\n\u001b[1;32m    156\u001b[0m ]\n",
      "File \u001b[0;32m~/.cache/pypoetry/virtualenvs/chat-langchain-zY7rdqCf-py3.10/lib/python3.10/site-packages/langchain/document_loaders/web_base.py:192\u001b[0m, in \u001b[0;36mWebBaseLoader.scrape_all\u001b[0;34m(self, urls, parser)\u001b[0m\n\u001b[1;32m    189\u001b[0m \u001b[39m\u001b[39m\u001b[39m\"\"\"Fetch all urls, then return soups for all results.\"\"\"\u001b[39;00m\n\u001b[1;32m    190\u001b[0m \u001b[39mfrom\u001b[39;00m \u001b[39mbs4\u001b[39;00m \u001b[39mimport\u001b[39;00m BeautifulSoup\n\u001b[0;32m--> 192\u001b[0m results \u001b[39m=\u001b[39m asyncio\u001b[39m.\u001b[39;49mrun(\u001b[39mself\u001b[39;49m\u001b[39m.\u001b[39;49mfetch_all(urls))\n\u001b[1;32m    193\u001b[0m final_results \u001b[39m=\u001b[39m []\n\u001b[1;32m    194\u001b[0m \u001b[39mfor\u001b[39;00m i, result \u001b[39min\u001b[39;00m \u001b[39menumerate\u001b[39m(results):\n",
      "File \u001b[0;32m/usr/lib/python3.10/asyncio/runners.py:33\u001b[0m, in \u001b[0;36mrun\u001b[0;34m(main, debug)\u001b[0m\n\u001b[1;32m      9\u001b[0m \u001b[39m\u001b[39m\u001b[39m\"\"\"Execute the coroutine and return the result.\u001b[39;00m\n\u001b[1;32m     10\u001b[0m \n\u001b[1;32m     11\u001b[0m \u001b[39mThis function runs the passed coroutine, taking care of\u001b[39;00m\n\u001b[0;32m   (...)\u001b[0m\n\u001b[1;32m     30\u001b[0m \u001b[39m    asyncio.run(main())\u001b[39;00m\n\u001b[1;32m     31\u001b[0m \u001b[39m\"\"\"\u001b[39;00m\n\u001b[1;32m     32\u001b[0m \u001b[39mif\u001b[39;00m events\u001b[39m.\u001b[39m_get_running_loop() \u001b[39mis\u001b[39;00m \u001b[39mnot\u001b[39;00m \u001b[39mNone\u001b[39;00m:\n\u001b[0;32m---> 33\u001b[0m     \u001b[39mraise\u001b[39;00m \u001b[39mRuntimeError\u001b[39;00m(\n\u001b[1;32m     34\u001b[0m         \u001b[39m\"\u001b[39m\u001b[39masyncio.run() cannot be called from a running event loop\u001b[39m\u001b[39m\"\u001b[39m)\n\u001b[1;32m     36\u001b[0m \u001b[39mif\u001b[39;00m \u001b[39mnot\u001b[39;00m coroutines\u001b[39m.\u001b[39miscoroutine(main):\n\u001b[1;32m     37\u001b[0m     \u001b[39mraise\u001b[39;00m \u001b[39mValueError\u001b[39;00m(\u001b[39m\"\u001b[39m\u001b[39ma coroutine was expected, got \u001b[39m\u001b[39m{!r}\u001b[39;00m\u001b[39m\"\u001b[39m\u001b[39m.\u001b[39mformat(main))\n",
      "\u001b[0;31mRuntimeError\u001b[0m: asyncio.run() cannot be called from a running event loop"
     ]
    }
   ],
   "source": [
    "ingest_docs()"
   ]
  }
 ],
 "metadata": {
  "kernelspec": {
   "display_name": "chat-langchain-zY7rdqCf-py3.10",
   "language": "python",
   "name": "python3"
  },
  "language_info": {
   "codemirror_mode": {
    "name": "ipython",
    "version": 3
   },
   "file_extension": ".py",
   "mimetype": "text/x-python",
   "name": "python",
   "nbconvert_exporter": "python",
   "pygments_lexer": "ipython3",
   "version": "3.10.12"
  }
 },
 "nbformat": 4,
 "nbformat_minor": 2
}
